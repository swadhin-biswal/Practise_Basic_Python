{
 "cells": [
  {
   "cell_type": "code",
   "execution_count": 1,
   "metadata": {},
   "outputs": [
    {
     "name": "stdout",
     "output_type": "stream",
     "text": [
      "enter the valuea\n",
      "invalid input\n"
     ]
    }
   ],
   "source": [
    "try:\n",
    "    x =int(input(\"enter the value\"))\n",
    "    if x>0:\n",
    "         print(\"The value is positive\")\n",
    "    elif x<0:\n",
    "         print(\"The value is negative\")\n",
    "    else:\n",
    "         print(\"The value is zero\")\n",
    "\n",
    "\n",
    "except:\n",
    "    print(\"invalid input\")"
   ]
  },
  {
   "cell_type": "code",
   "execution_count": null,
   "metadata": {},
   "outputs": [],
   "source": [
    "name = input(\"enter your name\")\n",
    "mark = ord(input(\"enter \"))\n",
    "\n",
    "if mark < 45:\n",
    "    print(name,mark, \"has failed in the exam\")\n",
    "        \n",
    "elif mark > 0:\n",
    "    print(name,mark, \"has passed in the exam\")\n",
    "        \n",
    "else:\n",
    "    pass"
   ]
  },
  {
   "cell_type": "code",
   "execution_count": 6,
   "metadata": {},
   "outputs": [
    {
     "name": "stdout",
     "output_type": "stream",
     "text": [
      "enter the value11\n",
      "No\n",
      "No\n"
     ]
    }
   ],
   "source": [
    "x =int(input(\"enter the value\"))\n",
    "\n",
    "if x < 10:\n",
    "    s = \"Yes\"\n",
    "else:\n",
    "    s = \"No\"\n",
    "print(s)\n",
    "\n",
    "# Could also be written onto one line\n",
    "s = \"Yes\"if x < 10 else \"No\"\n",
    "print(s)"
   ]
  },
  {
   "cell_type": "code",
   "execution_count": 7,
   "metadata": {},
   "outputs": [
    {
     "name": "stdout",
     "output_type": "stream",
     "text": [
      "Enter the value50\n",
      "Not in range\n"
     ]
    }
   ],
   "source": [
    "x = int(input(\"Enter the value\"))\n",
    "\n",
    "if 0 < x < 10: \n",
    "    print(\"In range A\")\n",
    "else:\n",
    "    print(\"Not in range\")\n",
    "    "
   ]
  },
  {
   "cell_type": "code",
   "execution_count": 9,
   "metadata": {},
   "outputs": [
    {
     "name": "stdout",
     "output_type": "stream",
     "text": [
      "enter the elements5\n",
      "Enter the number2\n",
      "Enter the number1\n",
      "Enter the number4\n",
      "Enter the number5\n",
      "Enter the number6\n",
      "[2, 1, 4, 5, 6]\n",
      "Are values of y and x the same? True\n",
      "Are objects y and x the same? False\n",
      "Are values of z and x the same? True\n",
      "Are objects z and x the same? True\n",
      "[2, 23, 4, 5, 6]\n",
      "Are values of y and x the same? False\n",
      "Are objects y and x the same? False\n",
      "Are values of z and x the same? True\n",
      "Are objects z and x the same? True\n"
     ]
    }
   ],
   "source": [
    "x = []\n",
    "n=int(input(\"enter the elements\"))\n",
    "for i in range(0,n):\n",
    "    le = int(input(\"Enter the number\"))\n",
    "    x.append(le)\n",
    "y = x[:] \n",
    "z = x\n",
    "print(x)\n",
    "print(\"Are values of y and x the same?\", y == x)\n",
    "print(\"Are objects y and x the same?\", y is x)\n",
    "print(\"Are values of z and x the same?\", z == x)\n",
    "print(\"Are objects z and x the same?\", z is x)\n",
    "x[1] = 23\n",
    "print(x)\n",
    "print(\"Are values of y and x the same?\", y == x)\n",
    "print(\"Are objects y and x the same?\", y is x)\n",
    "print(\"Are values of z and x the same?\", z == x)\n",
    "print(\"Are objects z and x the same?\", z is x)"
   ]
  },
  {
   "cell_type": "code",
   "execution_count": 10,
   "metadata": {},
   "outputs": [
    {
     "name": "stdout",
     "output_type": "stream",
     "text": [
      "x is false\n",
      "y is true\n"
     ]
    }
   ],
   "source": [
    "x = ''    \n",
    "y = ['a']   \n",
    "\n",
    "if x:\n",
    "    print(\"x is true\")\n",
    "else: \n",
    "    print(\"x is false\")     \n",
    "\n",
    "if y:\n",
    "    print(\"y is true\")\n",
    "else:\n",
    "    print(\"y is false\")"
   ]
  },
  {
   "cell_type": "code",
   "execution_count": null,
   "metadata": {},
   "outputs": [],
   "source": []
  }
 ],
 "metadata": {
  "kernelspec": {
   "display_name": "Python 3 (ipykernel)",
   "language": "python",
   "name": "python3"
  },
  "language_info": {
   "codemirror_mode": {
    "name": "ipython",
    "version": 3
   },
   "file_extension": ".py",
   "mimetype": "text/x-python",
   "name": "python",
   "nbconvert_exporter": "python",
   "pygments_lexer": "ipython3",
   "version": "3.9.12"
  }
 },
 "nbformat": 4,
 "nbformat_minor": 1
}
